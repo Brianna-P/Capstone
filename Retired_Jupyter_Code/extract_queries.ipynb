{
 "cells": [
  {
   "cell_type": "code",
   "execution_count": 32,
   "id": "db27c093",
   "metadata": {},
   "outputs": [
    {
     "name": "stdout",
     "output_type": "stream",
     "text": [
      "Found 10 codes with length > 1000 and < 1500 characters\n",
      "Long codes:  ['AnimalWelfareInvolvement', 'EUTaxAfforestationOverallAlign', 'EUTaxAfforestationOverallAlignA', 'EUTaxAfforestationOverallAlignM', 'EUTaxAirTransGrOpRevOverAlignM', 'EUTaxAluminiumOverallAlign', 'EUTaxAluminiumOverallAlignM', 'EUTaxAnaerDigeBioWasOverallAlign', 'EUTaxAnaerDigeBioWasOverallAlignM', 'EUTaxAnaerDigeSewageOverallAlign']\n",
      "Loaded 17036 queries from ESGish2.xlsx\n"
     ]
    }
   ],
   "source": [
    "import pandas as pd\n",
    "import re\n",
    "from pathlib import Path\n",
    "\n",
    "# 1. Load metadata and filter long codes\n",
    "metadata = pd.read_json('metadata.json')\n",
    "metadata['total_length'] = metadata['code'].str.len() + metadata['description'].str.len()\n",
    "long_codes = metadata[(metadata['total_length'] > 1000) & (metadata['total_length'] < 1200)].head(10)['code'].tolist()\n",
    "\n",
    "print(f\"Found {len(long_codes)} codes with length > 1000 and < 1500 characters\")\n",
    "print(\"Long codes: \", long_codes)\n",
    "# 2. Load ESGish2 queries from Excel\n",
    "try:\n",
    "    queries_df = pd.read_excel('ESGish2.xlsx')\n",
    "    # Assuming queries are in a column named 'query' - adjust if different\n",
    "    #queries = queries_df[queries_df['Esgish'].str.len() < 150]['Esgish'].astype(str).tolist()\n",
    "    queries = queries_df['Esgish'].astype(str).tolist()\n",
    "    print(f\"Loaded {len(queries)} queries from ESGish2.xlsx\")\n",
    "except Exception as e:\n",
    "    print(f\"Error loading ESGish2.xlsx: {e}\")\n",
    "    raise\n",
    "\n",
    "# 3. Find queries containing our long codes\n",
    "code_pattern = re.compile(r'\\b(' + '|'.join(re.escape(code) for code in long_codes) + r')\\b', re.IGNORECASE)\n",
    "matched_queries = []\n",
    "\n",
    "for i, query in enumerate(queries):\n",
    "    matches = code_pattern.findall(query)\n",
    "    if matches:\n",
    "        matched_queries.append({\n",
    "            'query_number': i+1,\n",
    "            'query_text': query.strip(),\n",
    "            'matched_codes': ', '.join(matches),\n",
    "            'match_count': len(matches)\n",
    "        })\n",
    "\n",
    "# 4. Create comprehensive results\n",
    "results = pd.DataFrame(matched_queries)\n",
    "results.to_csv('res_len_from_1000_to_1200_len(10).csv', index=False)\n"
   ]
  }
 ],
 "metadata": {
  "kernelspec": {
   "display_name": "myenv",
   "language": "python",
   "name": "python3"
  },
  "language_info": {
   "codemirror_mode": {
    "name": "ipython",
    "version": 3
   },
   "file_extension": ".py",
   "mimetype": "text/x-python",
   "name": "python",
   "nbconvert_exporter": "python",
   "pygments_lexer": "ipython3",
   "version": "3.11.11"
  }
 },
 "nbformat": 4,
 "nbformat_minor": 5
}
