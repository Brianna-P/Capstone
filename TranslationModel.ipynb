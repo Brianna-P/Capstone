{
 "cells": [
  {
   "cell_type": "code",
   "execution_count": null,
   "id": "20f6d9fd-d0ba-4d5a-8c46-905a3a5768af",
   "metadata": {},
   "outputs": [],
   "source": [
    "!pip install transformers datasets accelerate peft bitsandbytes"
   ]
  },
  {
   "cell_type": "code",
   "execution_count": 27,
   "id": "9918d620-3549-40d5-b832-94a3bf079673",
   "metadata": {},
   "outputs": [],
   "source": [
    "import torch\n",
    "torch.cuda.empty_cache()\n",
    "if torch.backends.mps.is_available():\n",
    "    device = torch.device(\"mps\")\n",
    "else:\n",
    "    device = torch.device(\"cpu\")"
   ]
  },
  {
   "cell_type": "code",
   "execution_count": 28,
   "id": "bbf6dcfe-a640-40f7-8abc-05274cc0e61f",
   "metadata": {},
   "outputs": [
    {
     "data": {
      "application/vnd.jupyter.widget-view+json": {
       "model_id": "6f30830dc4ee45b093260c0a3aa2602c",
       "version_major": 2,
       "version_minor": 0
      },
      "text/plain": [
       "VBox(children=(HTML(value='<center> <img\\nsrc=https://huggingface.co/front/assets/huggingface_logo-noborder.sv…"
      ]
     },
     "metadata": {},
     "output_type": "display_data"
    }
   ],
   "source": [
    "from huggingface_hub import notebook_login\n",
    "notebook_login()"
   ]
  },
  {
   "cell_type": "code",
   "execution_count": 44,
   "id": "e68e2942-77ab-4ff9-86e3-074ef93fa542",
   "metadata": {},
   "outputs": [
    {
     "name": "stdout",
     "output_type": "stream",
     "text": [
      "Model loaded successfully.\n"
     ]
    }
   ],
   "source": [
    "from transformers import T5Tokenizer, T5ForConditionalGeneration\n",
    "\n",
    "model = T5ForConditionalGeneration.from_pretrained(\"./my_trained_model\")\n",
    "tokenizer = T5Tokenizer.from_pretrained(\"./my_trained_model\")\n",
    "model.to(device)\n",
    "\n",
    "\n",
    "print(\"Model loaded successfully.\")"
   ]
  },
  {
   "cell_type": "code",
   "execution_count": 83,
   "id": "9a8c285b-fd5d-4bf9-9a8e-97ae1d346482",
   "metadata": {},
   "outputs": [
    {
     "name": "stdout",
     "output_type": "stream",
     "text": [
      "Training data loaded successfully.\n",
      "                                            Esgish  \\\n",
      "0             [CCANuclearPowerNewPlants] == 'True'   \n",
      "1                      [CCANuclearPowerTPES] < '5'   \n",
      "2                      [CCANuclearPowerTPES] > '0'   \n",
      "3  [CCANuclearWeaponsSignatory] == 'Non-Signatory'   \n",
      "4       [CEOEmployeePayDisclosedByCompany] > '0.5'   \n",
      "\n",
      "                                             English  \n",
      "0  Return all countries with a new power plant th...  \n",
      "1  Return all countries with a Total Primary Ener...  \n",
      "2  Return all countries with a Total Primary Ener...  \n",
      "3  Return all countries that did not sign the Tre...  \n",
      "4  Return all issuers with a ratio between CEO pa...  \n",
      "Training data processed successfully.\n",
      "Test data loaded successfully.\n",
      "                                              Esgish  English\n",
      "0  AND([CarbonRRPerformanceScore] > '0',[CarbonRR...      NaN\n",
      "1                       [CEOSpecialGrantPct] > '0.5'      NaN\n",
      "2  AND([CIQMarketCap] >= '10000000000',[oekomIndu...      NaN\n"
     ]
    }
   ],
   "source": [
    "import json\n",
    "import pandas as pd\n",
    "import re\n",
    "import os\n",
    "\n",
    "train_excel_path = \"esgish.xlsx\"\n",
    "\n",
    "train_df = pd.read_excel(train_excel_path)\n",
    "expected_columns = [\"Esgish\", \"English\"]\n",
    "train_df.rename(columns=lambda x: x.strip(), inplace=True)\n",
    "\n",
    "for col in expected_columns:\n",
    "    assert col in train_df.columns, f\"Missing expected column: {col}\"\n",
    "print(\"Training data loaded successfully.\")\n",
    "print(train_df.head())\n",
    "\n",
    "train_data = []\n",
    "\n",
    "for _, row in train_df.iterrows():\n",
    "    train_data.append({\n",
    "        \"input\": f\"Translate to English: {row['Esgish']}\",\n",
    "        \"output\": row[\"English\"]\n",
    "    })\n",
    "\n",
    "train_dataset = Dataset.from_pandas(pd.DataFrame(train_data))\n",
    "print(\"Training data processed successfully.\")\n",
    "print(train_dataset[0])\n",
    "\n",
    "print(\"Test data loaded successfully.\")\n",
    "print(test_df.head())\n"
   ]
  },
  {
   "cell_type": "code",
   "execution_count": 85,
   "id": "33aa9c93-7071-42b8-887d-0e6fdc802862",
   "metadata": {},
   "outputs": [
    {
     "name": "stdout",
     "output_type": "stream",
     "text": [
      "Esgish: Translate to English: [CCANuclearPowerNewPlants] == 'True'\n",
      "English: Return all countries with a new power plant that is under construction, planned for construction, or have been put into operation in the prior year.\n",
      "---\n",
      "Esgish: Translate to English: [CCANuclearPowerTPES] < '5'\n",
      "English: Return all countries with a Total Primary Energy Supply less than 5%.\n",
      "---\n",
      "Esgish: Translate to English: [CCANuclearPowerTPES] > '0'\n",
      "English: Return all countries with a Total Primary Energy Supply greater than 0%.\n",
      "---\n",
      "Esgish: Translate to English: [CCANuclearWeaponsSignatory] == 'Non-Signatory'\n",
      "English: Return all countries that did not sign the Treaty on the Non-Proliferation of Nuclear Weapons.\n",
      "---\n",
      "Esgish: Translate to English: [CEOEmployeePayDisclosedByCompany] > '0.5'\n",
      "English: Return all issuers with a ratio between CEO pay and employee pay of greater than 50%.\n",
      "---\n"
     ]
    }
   ],
   "source": [
    "!pip install datasets\n",
    "!pip install sentencepiece\n",
    "\n",
    "from datasets import load_dataset, Dataset\n",
    "\n",
    "train_dataset = Dataset.from_pandas(train_df)\n",
    "eval_dataset = Dataset.from_pandas(val_df)\n",
    "test_dataset = Dataset.from_pandas(test_df)\n",
    "\n",
    "\n",
    "def preprocess_function(examples):\n",
    "    inputs = tokenizer(examples[\"input\"], truncation=True, padding=\"max_length\", max_length=128)\n",
    "    labels = tokenizer(examples[\"output\"], max_length=128, truncation=True, padding=\"max_length\")    \n",
    "    model_inputs = {\n",
    "        \"input_ids\": inputs[\"input_ids\"],\n",
    "        \"attention_mask\": inputs[\"attention_mask\"],\n",
    "        \"labels\": labels[\"input_ids\"], \n",
    "    }\n",
    "    \n",
    "\n",
    "    return model_inputs\n",
    "\n",
    "train_dataset = train_dataset.map(preprocess_function, batched=True, remove_columns=[\"input\", \"output\"])\n",
    "eval_dataset = eval_dataset.map(preprocess_function, batched=True, remove_columns=[\"input\", \"output\"])\n",
    "test_dataset = test_dataset.map(preprocess_function, batched=True, remove_columns=[\"input\", \"output\"])\n",
    "print(train_dataset[0])\n"
   ]
  },
  {
   "cell_type": "code",
   "execution_count": 61,
   "id": "953d7c6b-ff48-4699-b60f-891eecca8a2d",
   "metadata": {},
   "outputs": [],
   "source": [
    "#split for evaluation\n",
    "\n",
    "#split_dataset = train_dataset.train_test_split(test_size=0.1)\n",
    "#train_dataset = split_dataset['train']\n",
    "#eval_dataset = split_dataset['test']\n"
   ]
  },
  {
   "cell_type": "code",
   "execution_count": 62,
   "id": "3692925a-036a-4553-bef7-fe258a2250e9",
   "metadata": {},
   "outputs": [
    {
     "name": "stdout",
     "output_type": "stream",
     "text": [
      "Requirement already satisfied: accelerate in /Users/briannapatten/opt/anaconda3/lib/python3.11/site-packages (1.4.0)\n",
      "Requirement already satisfied: numpy<3.0.0,>=1.17 in /Users/briannapatten/opt/anaconda3/lib/python3.11/site-packages (from accelerate) (1.26.4)\n",
      "Requirement already satisfied: packaging>=20.0 in /Users/briannapatten/opt/anaconda3/lib/python3.11/site-packages (from accelerate) (23.1)\n",
      "Requirement already satisfied: psutil in /Users/briannapatten/opt/anaconda3/lib/python3.11/site-packages (from accelerate) (5.9.0)\n",
      "Requirement already satisfied: pyyaml in /Users/briannapatten/opt/anaconda3/lib/python3.11/site-packages (from accelerate) (6.0.1)\n",
      "Requirement already satisfied: torch>=2.0.0 in /Users/briannapatten/opt/anaconda3/lib/python3.11/site-packages (from accelerate) (2.6.0)\n",
      "Requirement already satisfied: huggingface-hub>=0.21.0 in /Users/briannapatten/opt/anaconda3/lib/python3.11/site-packages (from accelerate) (0.24.7)\n",
      "Requirement already satisfied: safetensors>=0.4.3 in /Users/briannapatten/opt/anaconda3/lib/python3.11/site-packages (from accelerate) (0.4.5)\n",
      "Requirement already satisfied: filelock in /Users/briannapatten/opt/anaconda3/lib/python3.11/site-packages (from huggingface-hub>=0.21.0->accelerate) (3.13.1)\n",
      "Requirement already satisfied: fsspec>=2023.5.0 in /Users/briannapatten/opt/anaconda3/lib/python3.11/site-packages (from huggingface-hub>=0.21.0->accelerate) (2023.10.0)\n",
      "Requirement already satisfied: requests in /Users/briannapatten/opt/anaconda3/lib/python3.11/site-packages (from huggingface-hub>=0.21.0->accelerate) (2.32.3)\n",
      "Requirement already satisfied: tqdm>=4.42.1 in /Users/briannapatten/opt/anaconda3/lib/python3.11/site-packages (from huggingface-hub>=0.21.0->accelerate) (4.67.1)\n",
      "Requirement already satisfied: typing-extensions>=3.7.4.3 in /Users/briannapatten/opt/anaconda3/lib/python3.11/site-packages (from huggingface-hub>=0.21.0->accelerate) (4.12.2)\n",
      "Requirement already satisfied: networkx in /Users/briannapatten/opt/anaconda3/lib/python3.11/site-packages (from torch>=2.0.0->accelerate) (3.1)\n",
      "Requirement already satisfied: jinja2 in /Users/briannapatten/opt/anaconda3/lib/python3.11/site-packages (from torch>=2.0.0->accelerate) (3.1.3)\n",
      "Requirement already satisfied: sympy==1.13.1 in /Users/briannapatten/opt/anaconda3/lib/python3.11/site-packages (from torch>=2.0.0->accelerate) (1.13.1)\n",
      "Requirement already satisfied: mpmath<1.4,>=1.1.0 in /Users/briannapatten/opt/anaconda3/lib/python3.11/site-packages (from sympy==1.13.1->torch>=2.0.0->accelerate) (1.3.0)\n",
      "Requirement already satisfied: MarkupSafe>=2.0 in /Users/briannapatten/opt/anaconda3/lib/python3.11/site-packages (from jinja2->torch>=2.0.0->accelerate) (2.1.3)\n",
      "Requirement already satisfied: charset-normalizer<4,>=2 in /Users/briannapatten/opt/anaconda3/lib/python3.11/site-packages (from requests->huggingface-hub>=0.21.0->accelerate) (2.0.4)\n",
      "Requirement already satisfied: idna<4,>=2.5 in /Users/briannapatten/opt/anaconda3/lib/python3.11/site-packages (from requests->huggingface-hub>=0.21.0->accelerate) (3.4)\n",
      "Requirement already satisfied: urllib3<3,>=1.21.1 in /Users/briannapatten/opt/anaconda3/lib/python3.11/site-packages (from requests->huggingface-hub>=0.21.0->accelerate) (2.0.7)\n",
      "Requirement already satisfied: certifi>=2017.4.17 in /Users/briannapatten/opt/anaconda3/lib/python3.11/site-packages (from requests->huggingface-hub>=0.21.0->accelerate) (2024.2.2)\n",
      "\n",
      "\u001b[1m[\u001b[0m\u001b[34;49mnotice\u001b[0m\u001b[1;39;49m]\u001b[0m\u001b[39;49m A new release of pip is available: \u001b[0m\u001b[31;49m25.0\u001b[0m\u001b[39;49m -> \u001b[0m\u001b[32;49m25.0.1\u001b[0m\n",
      "\u001b[1m[\u001b[0m\u001b[34;49mnotice\u001b[0m\u001b[1;39;49m]\u001b[0m\u001b[39;49m To update, run: \u001b[0m\u001b[32;49mpip install --upgrade pip\u001b[0m\n",
      "Training started...\n"
     ]
    },
    {
     "data": {
      "text/html": [
       "\n",
       "    <div>\n",
       "      \n",
       "      <progress value='72' max='72' style='width:300px; height:20px; vertical-align: middle;'></progress>\n",
       "      [72/72 00:23, Epoch 3/3]\n",
       "    </div>\n",
       "    <table border=\"1\" class=\"dataframe\">\n",
       "  <thead>\n",
       " <tr style=\"text-align: left;\">\n",
       "      <th>Epoch</th>\n",
       "      <th>Training Loss</th>\n",
       "      <th>Validation Loss</th>\n",
       "    </tr>\n",
       "  </thead>\n",
       "  <tbody>\n",
       "    <tr>\n",
       "      <td>1</td>\n",
       "      <td>No log</td>\n",
       "      <td>3.604892</td>\n",
       "    </tr>\n",
       "    <tr>\n",
       "      <td>2</td>\n",
       "      <td>No log</td>\n",
       "      <td>3.081428</td>\n",
       "    </tr>\n",
       "    <tr>\n",
       "      <td>3</td>\n",
       "      <td>No log</td>\n",
       "      <td>2.837015</td>\n",
       "    </tr>\n",
       "  </tbody>\n",
       "</table><p>"
      ],
      "text/plain": [
       "<IPython.core.display.HTML object>"
      ]
     },
     "metadata": {},
     "output_type": "display_data"
    },
    {
     "name": "stderr",
     "output_type": "stream",
     "text": [
      "There were missing keys in the checkpoint model loaded: ['encoder.embed_tokens.weight', 'decoder.embed_tokens.weight'].\n"
     ]
    },
    {
     "name": "stdout",
     "output_type": "stream",
     "text": [
      "training done\n"
     ]
    },
    {
     "data": {
      "text/plain": [
       "('./my_trained_model/tokenizer_config.json',\n",
       " './my_trained_model/special_tokens_map.json',\n",
       " './my_trained_model/spiece.model',\n",
       " './my_trained_model/added_tokens.json')"
      ]
     },
     "execution_count": 62,
     "metadata": {},
     "output_type": "execute_result"
    }
   ],
   "source": [
    "!pip install accelerate -U\n",
    "from transformers import TrainingArguments, Trainer, DataCollatorForSeq2Seq, T5Tokenizer\n",
    "\n",
    "training_args = TrainingArguments(\n",
    "    output_dir=\"flan-t5-sql\",\n",
    "    eval_strategy=\"epoch\",\n",
    "    learning_rate=1e-4,\n",
    "    per_device_train_batch_size=4,\n",
    "    per_device_eval_batch_size=4,\n",
    "    num_train_epochs=3,\n",
    "    weight_decay=0.01,\n",
    "    save_total_limit=2,\n",
    "    save_strategy=\"epoch\",\n",
    "    push_to_hub=False,\n",
    "    report_to=\"none\",\n",
    "    remove_unused_columns=False,\n",
    "    load_best_model_at_end=True,\n",
    ")\n",
    "\n",
    "data_collator = DataCollatorForSeq2Seq(tokenizer, model=model)\n",
    "\n",
    "trainer = Trainer(\n",
    "    model=model,\n",
    "    args=training_args,\n",
    "    train_dataset=train_dataset,\n",
    "    eval_dataset=eval_dataset,\n",
    "    tokenizer = tokenizer,\n",
    "    data_collator=data_collator,\n",
    "\n",
    ")\n",
    "\n",
    "print(\"Training started...\")\n",
    "\n",
    "trainer.train()\n",
    "print(\"training done\")\n",
    "\n",
    "test_results = trainer.evaluate(test_dataset)\n",
    "print(f\"Test Loss: {test_results['eval_loss']}\")\n",
    "\n",
    "model.save_pretrained(\"./my_trained_model\")\n",
    "tokenizer.save_pretrained(\"./my_trained_model\")"
   ]
  },
  {
   "cell_type": "code",
   "execution_count": 63,
   "id": "b581f3d6-c3b3-4cdc-a83f-0969d9694613",
   "metadata": {},
   "outputs": [
    {
     "name": "stdout",
     "output_type": "stream",
     "text": [
      "Generated English queries for test data.\n",
      "                                              Esgish  \\\n",
      "0  AND([CarbonRRPerformanceScore] > '0',[CarbonRR...   \n",
      "1                       [CEOSpecialGrantPct] > '0.5'   \n",
      "2  AND([CIQMarketCap] >= '10000000000',[oekomIndu...   \n",
      "\n",
      "                                   Generated English  \n",
      "0                      Performance Scores > '0', '0'  \n",
      "1                                            QR code  \n",
      "2  Warranty for the use of a 'CIQ Market Cap', 'O...  \n"
     ]
    }
   ],
   "source": [
    "def translate_query(query):\n",
    "    input_text = f\"Translate to English: {query}\"\n",
    "    inputs = tokenizer(input_text, return_tensors=\"pt\", truncation=True, padding=\"max_length\", max_length=128)\n",
    "    \n",
    "    outputs = model.generate(\n",
    "        input_ids=inputs[\"input_ids\"],\n",
    "        attention_mask=inputs[\"attention_mask\"],\n",
    "        max_length=128,\n",
    "        num_beams=5,  \n",
    "        early_stopping=True,\n",
    "    )\n",
    "    \n",
    "    translated_text = tokenizer.decode(outputs[0], skip_special_tokens=True)\n",
    "    return translated_text\n",
    "\n",
    "user_query = \"Find companies with high carbon emissions\"\n",
    "translated_query = translate_query(user_query)\n",
    "print(f\"Translated Query: {translated_query}\")"
   ]
  },
  {
   "cell_type": "code",
   "execution_count": 64,
   "id": "76d6c083-f3d2-4030-b386-4ee4facf96ae",
   "metadata": {},
   "outputs": [
    {
     "name": "stdout",
     "output_type": "stream",
     "text": [
      "Results saved to test_data_with_predictions.xlsx\n"
     ]
    }
   ],
   "source": [
    "output_test_path = \"test_data_with_predictions.xlsx\"\n",
    "test_df.to_excel(output_test_path, index=False)\n",
    "\n",
    "print(f\"Results saved to {output_test_path}\")\n"
   ]
  },
  {
   "cell_type": "code",
   "execution_count": null,
   "id": "5eb63b5c-ea59-4332-9856-1e34a2ecbcba",
   "metadata": {},
   "outputs": [],
   "source": [
    "\n"
   ]
  },
  {
   "cell_type": "code",
   "execution_count": null,
   "id": "63476f63-c896-4562-bc67-57aaf06e12bf",
   "metadata": {},
   "outputs": [],
   "source": []
  }
 ],
 "metadata": {
  "kernelspec": {
   "display_name": "Python 3 (ipykernel)",
   "language": "python",
   "name": "python3"
  },
  "language_info": {
   "codemirror_mode": {
    "name": "ipython",
    "version": 3
   },
   "file_extension": ".py",
   "mimetype": "text/x-python",
   "name": "python",
   "nbconvert_exporter": "python",
   "pygments_lexer": "ipython3",
   "version": "3.11.7"
  }
 },
 "nbformat": 4,
 "nbformat_minor": 5
}
