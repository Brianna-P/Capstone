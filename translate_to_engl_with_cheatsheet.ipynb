{
 "cells": [
  {
   "cell_type": "code",
   "execution_count": null,
   "id": "11329b8f-ae0a-48d4-9da9-7c1c06875c10",
   "metadata": {},
   "outputs": [],
   "source": [
    "!pip install pandas openpyxl transformers torch\n",
    "!pip install llama-cpp-python"
   ]
  },
  {
   "cell_type": "code",
   "execution_count": null,
   "id": "8a607fdc-3c30-4006-af0d-60789c816fda",
   "metadata": {},
   "outputs": [],
   "source": [
    "from llama_cpp import Llama\n",
    "from concurrent.futures import ThreadPoolExecutor\n",
    "\n",
    "model_path = \"/Users/pierr/Desktop/mistral-7b-instruct-v0.1.Q4_K_M.gguf\"\n",
    "llm = Llama(\n",
    "    model_path=model_path,\n",
    "    n_ctx = 2048\n",
    ")"
   ]
  },
  {
   "cell_type": "code",
   "execution_count": null,
   "id": "efb3fc4c-e7b9-4bfb-9340-779aaba31116",
   "metadata": {},
   "outputs": [],
   "source": [
    "def translate_query(query):\n",
    "    # ESGish cheat sheet for llm\n",
    "    cheat_sheet = \"\"\"\n",
    "    ### ESGish Query Language – Cheat Sheet\n",
    "\n",
    "    1. Query Structure:\n",
    "    - A query can be a single condition or a group of conditions using AND, OR, NOT.\n",
    "\n",
    "    2. Filters:\n",
    "    - Format: [FieldName] Operator 'Value'\n",
    "    - Operators: =, >, <, >=, <=, !=\n",
    "    - Example: [BoardIndependencePct] > '0.7'\n",
    "\n",
    "    3. Functions:\n",
    "    - RATIO(F1, F2): ratio of F1 to F2\n",
    "    - SUM(F1, F2, ...): total of multiple fields\n",
    "    - CASE_COUNT(Query): number of cases matching a query\n",
    "\n",
    "    4. Logical Operators:\n",
    "    - AND(...), OR(...), NOT(...)\n",
    "    - Used to combine multiple conditions\n",
    "\n",
    "    5. Syntax Notes:\n",
    "    - Field names use square brackets []\n",
    "    - Values are quoted: 'Yes', '0.5', 'High'\n",
    "    - Fields can be numeric, boolean, date, or string\n",
    "\n",
    "    6. Your Task:\n",
    "    - Reprhase the ESGish queries provided as natural English statements\n",
    "    - Use lead-ins like: \"Find companies where...\", \"Show issuers with...\", etc.\n",
    "    - Output should be clear, concise, and human-friendly\n",
    "    - Give only one translation per query\n",
    "    \"\"\"\n",
    "    prompt = f\"\"\"{cheat_sheet}\n",
    "    \n",
    "    {query}\n",
    "    \n",
    "    ### Response:\"\"\"\n",
    "\n",
    "    # send the prompt to the llm with specified parameters\n",
    "    response = llm(prompt, max_tokens=575, temperature=0.1)\n",
    "    return response[\"choices\"][0][\"text\"].strip()\n"
   ]
  },
  {
   "cell_type": "code",
   "execution_count": 8,
   "id": "a78f8967",
   "metadata": {},
   "outputs": [
    {
     "name": "stdout",
     "output_type": "stream",
     "text": [
      "Max context window: 2048\n"
     ]
    }
   ],
   "source": [
    "print(\"Max context window:\", llm.context_params.n_ctx)"
   ]
  },
  {
   "cell_type": "code",
   "execution_count": null,
   "id": "81772e84-bbeb-4000-a351-281347bf87a7",
   "metadata": {},
   "outputs": [],
   "source": [
    "import pandas as pd\n",
    "import os\n",
    "from tqdm import tqdm\n",
    "from openpyxl import load_workbook\n",
    "from functools import partial\n",
    "import time\n",
    "\n",
    "#Reads and stores the Esgish queries\n",
    "df = pd.read_excel(\"tester.xlsx\")\n",
    "queries = df[\"Esgish\"].tolist()\n",
    "#Ensures no overload and efficiency\n",
    "batch_size = 100 \n",
    "output_file = \"translated_queries_TEST.xlsx\"\n",
    "start = time.time()\n",
    "\n",
    "#Looks at each query in each batch, calls the translate_query function, and stores it\n",
    "for i in range(0, len(queries), batch_size):\n",
    "    batch = queries[i:i + batch_size]\n",
    "    translated_batch = []\n",
    "    \n",
    "    for query in tqdm(batch, desc=f\"Translating batch {i // batch_size + 1}\"):\n",
    "        translated = translate_query(query)\n",
    "        translated_batch.append(translated)\n",
    "    \n",
    "    df_batch = pd.DataFrame({\n",
    "        \"Esgish\": batch,\n",
    "        \"English\": translated_batch\n",
    "    })\n",
    "\n",
    "    if i == 0 or not os.path.exists(output_file):\n",
    "        df_batch.to_excel(output_file, index=False)  \n",
    "    else:\n",
    "        # Get the current row count in the Excel file to avoid overlapping\n",
    "        workbook = load_workbook(output_file)\n",
    "        sheet = workbook.active\n",
    "        existing_rows = sheet.max_row\n",
    "\n",
    "        with pd.ExcelWriter(output_file, mode=\"a\", engine=\"openpyxl\", if_sheet_exists=\"overlay\") as writer:\n",
    "            df_batch.to_excel(writer, index=False, header=False, startrow=existing_rows)\n",
    "\n",
    "    print(f\"Saved batch {i // batch_size + 1} to {output_file}\")\n",
    "    #Avoids overwhelming the system/API\n",
    "    time.sleep(1) \n",
    "\n",
    "end = time.time()"
   ]
  },
  {
   "cell_type": "code",
   "execution_count": null,
   "id": "fc3c7e9f",
   "metadata": {},
   "outputs": [],
   "source": []
  }
 ],
 "metadata": {
  "kernelspec": {
   "display_name": "myenv",
   "language": "python",
   "name": "python3"
  },
  "language_info": {
   "codemirror_mode": {
    "name": "ipython",
    "version": 3
   },
   "file_extension": ".py",
   "mimetype": "text/x-python",
   "name": "python",
   "nbconvert_exporter": "python",
   "pygments_lexer": "ipython3",
   "version": "3.11.11"
  }
 },
 "nbformat": 4,
 "nbformat_minor": 5
}
