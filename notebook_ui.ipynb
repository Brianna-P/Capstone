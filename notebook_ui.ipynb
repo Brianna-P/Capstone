{
 "cells": [
  {
   "cell_type": "code",
   "execution_count": 2,
   "id": "dd0df640-f6a5-4652-965e-17ccc2e2698f",
   "metadata": {},
   "outputs": [
    {
     "name": "stdout",
     "output_type": "stream",
     "text": [
      "Model loaded\n"
     ]
    }
   ],
   "source": [
    "from transformers import AutoTokenizer, AutoModelForSeq2SeqLM\n",
    "\n",
    "# Loads saved model\n",
    "model = AutoModelForSeq2SeqLM.from_pretrained(\"./new_2\")\n",
    "tokenizer = AutoTokenizer.from_pretrained(\"./new_2\")\n",
    "print(\"Model loaded\")"
   ]
  },
  {
   "cell_type": "code",
   "execution_count": 8,
   "id": "69320efc-958e-4d7d-9115-d861c1a2f4b3",
   "metadata": {},
   "outputs": [
    {
     "name": "stdout",
     "output_type": "stream",
     "text": [
      "Esgish2 and English Translation Model\n",
      "Enter the corresponding number for your translation or 'Exit' to leave:\n",
      "1. Esgish2 --> English\n",
      "2. English --> Esgish2\n"
     ]
    },
    {
     "name": "stdin",
     "output_type": "stream",
     "text": [
      " 1\n",
      "Enter query: OR([IssuerName] CTN 'Jupiter mines',[IssuerName] CTN 'Paladin Energy')\n"
     ]
    },
    {
     "name": "stdout",
     "output_type": "stream",
     "text": [
      "Model Output:  All companies or issuers that have a CTN 'Jupiter mines' or 'Paladin Energy'. \n",
      "\n",
      "\n",
      "Enter the corresponding number for your translation or 'Exit' to leave:\n",
      "1. Esgish2 --> English\n",
      "2. English --> Esgish2\n"
     ]
    },
    {
     "name": "stdin",
     "output_type": "stream",
     "text": [
      " 2\n",
      "Enter query: All companies or issuers that have either \"Jupiter mines\" or \"Paladin Energy\" in their CTN.\n"
     ]
    },
    {
     "name": "stdout",
     "output_type": "stream",
     "text": [
      "Model Output:  [JupiterMines] IN 'Paladin Energy' \n",
      "\n",
      "\n",
      "Enter the corresponding number for your translation or 'Exit' to leave:\n",
      "1. Esgish2 --> English\n",
      "2. English --> Esgish2\n"
     ]
    },
    {
     "name": "stdin",
     "output_type": "stream",
     "text": [
      " exit\n"
     ]
    }
   ],
   "source": [
    "print(\"Esgish2 and English Translation Model\")\n",
    "print(\"Enter the corresponding number for your translation or 'Exit' to leave:\")\n",
    "print(\"1. Esgish2 --> English\")\n",
    "print(\"2. English --> Esgish2\")\n",
    "user_text = input()\n",
    "\n",
    "while user_text.lower() != 'exit':\n",
    "    if user_text != '1' and user_text != '2':\n",
    "        print(\"Invalid input\")\n",
    "        print(\"1. Esgish2 --> English\")\n",
    "        print(\"2. English --> Esgish2\")\n",
    "        user_text = input()\n",
    "    else:\n",
    "        prompt = input(\"Enter query:\")\n",
    "        if user_text == '1':\n",
    "            input_text = f\"Convert Esgish to Eglish: {prompt}\"\n",
    "            inputs = tokenizer(input_text, return_tensors=\"pt\", padding=True, truncation=True)\n",
    "            output_ids = model.generate(\n",
    "                **inputs,\n",
    "                max_length=1024,\n",
    "                num_beams=4,\n",
    "                early_stopping=True,\n",
    "                no_repeat_ngram_size=3\n",
    "            )\n",
    "        else:\n",
    "            input_text = f\"Convert English to Esgish: {prompt}\"\n",
    "            inputs = tokenizer(input_text, return_tensors=\"pt\", padding=True, truncation=True)\n",
    "            output_ids = model.generate(\n",
    "                **inputs,\n",
    "                max_length=1024,\n",
    "                num_beams=4,\n",
    "                early_stopping=True,\n",
    "                no_repeat_ngram_size=3\n",
    "            )\n",
    "        print(\"Model Output: \", tokenizer.decode(output_ids[0], skip_special_tokens=True), \"\\n\\n\")\n",
    "        print(\"Enter the corresponding number for your translation or 'Exit' to leave:\")\n",
    "        print(\"1. Esgish2 --> English\")\n",
    "        print(\"2. English --> Esgish2\")\n",
    "        user_text = input()\n"
   ]
  },
  {
   "cell_type": "code",
   "execution_count": null,
   "id": "22074a2b-2115-41ee-985d-163ea3036acc",
   "metadata": {},
   "outputs": [],
   "source": []
  }
 ],
 "metadata": {
  "kernelspec": {
   "display_name": "Python 3 (ipykernel)",
   "language": "python",
   "name": "python3"
  },
  "language_info": {
   "codemirror_mode": {
    "name": "ipython",
    "version": 3
   },
   "file_extension": ".py",
   "mimetype": "text/x-python",
   "name": "python",
   "nbconvert_exporter": "python",
   "pygments_lexer": "ipython3",
   "version": "3.9.13"
  }
 },
 "nbformat": 4,
 "nbformat_minor": 5
}
