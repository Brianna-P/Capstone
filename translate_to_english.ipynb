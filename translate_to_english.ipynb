{
 "cells": [
  {
   "cell_type": "code",
   "execution_count": null,
   "id": "11329b8f-ae0a-48d4-9da9-7c1c06875c10",
   "metadata": {},
   "outputs": [],
   "source": [
    "!pip install pandas openpyxl transformers torch\n",
    "!pip install llama-cpp-python"
   ]
  },
  {
   "cell_type": "code",
   "execution_count": null,
   "id": "8a607fdc-3c30-4006-af0d-60789c816fda",
   "metadata": {},
   "outputs": [],
   "source": [
    "from llama_cpp import Llama\n",
    "from concurrent.futures import ThreadPoolExecutor\n",
    "\n",
    "model_path = \"/Users/briannapatten/Desktop/mistral-7b-instruct-v0.1.Q4_K_M.gguf\"\n",
    "llm = Llama(model_path=model_path)"
   ]
  },
  {
   "cell_type": "code",
   "execution_count": 2,
   "id": "efb3fc4c-e7b9-4bfb-9340-779aaba31116",
   "metadata": {},
   "outputs": [],
   "source": [
    "import random\n",
    "\n",
    "def translate_query(query):\n",
    "    #prompt = f\"### Instruction:\\nRephrase the following ESGish query into a natural English sentence that begins with 'Return all occurrences of'.\\n\\n{query}\\n\\n### Response:\"\n",
    "    #Changes up prompts each time to ensure variety in English conversions\n",
    "    PROMPTS = [\n",
    "        f\"### Instruction:\\nRephrase the following ESGish query into a natural English sentence that begins with 'Return all occurrences of'.\\n\\n{query}\\n\\n### Response:\",\n",
    "        f\"### Instruction:\\nRephrase the following ESGish query into a natural English sentence that begins with 'Find where'.\\n\\n{query}\\n\\n### Response:\",\n",
    "        f\"### Instruction:\\nRephrase the following ESGish query into a natural English sentence that begins with 'Return issuers that'.\\n\\n{query}\\n\\n### Response:\",\n",
    "        f\"### Instruction:\\nRephrase the following ESGish query into a natural English sentence.\\n\\n{query}\\n\\n### Response:\",\n",
    "        f\"### Instruction:\\nRephrase the following ESGish query into a natural English sentence that begins with 'Return'.\\n\\n{query}\\n\\n### Response:\"\n",
    "    ]\n",
    "    #Error handling \n",
    "    try:\n",
    "        #Chooses a random prompt from the array, queries a response from Mistral, returns response\n",
    "        prompt = random.choice(PROMPTS).format(query=query)\n",
    "        response = llm(prompt, max_tokens=575, temperature=0.1)\n",
    "        return response[\"choices\"][0][\"text\"].strip()\n",
    "    except Exception as e:\n",
    "        print(f\"Error translating query: '{query}'\\nError: {str(e)}\")\n",
    "        return \"[TRANSLATION_FAILED]\""
   ]
  },
  {
   "cell_type": "code",
   "execution_count": null,
   "id": "81772e84-bbeb-4000-a351-281347bf87a7",
   "metadata": {},
   "outputs": [],
   "source": [
    "import pandas as pd\n",
    "from functools import partial\n",
    "import time\n",
    "\n",
    "#Reads and stores the Esgish queries\n",
    "df = pd.read_excel(\"esgish_short.xlsx\")\n",
    "queries = df[\"Esgish\"].tolist()\n",
    "#Ensures no overload and efficiency\n",
    "batch_size = 100 \n",
    "output_file = \"translated_queries_TEST.xlsx\"\n",
    "\n",
    "#Looks at each query in each batch, calls the translate_query function, and stores it\n",
    "for i in range(0, len(queries), batch_size):\n",
    "    batch = queries[i:i + batch_size]\n",
    "    translated_batch = []\n",
    "    \n",
    "    for query in batch:\n",
    "        translated = translate_query(query)\n",
    "        translated_batch.append(translated)\n",
    "    \n",
    "    df_batch = pd.DataFrame({\n",
    "        \"Esgish\": batch,\n",
    "        \"English\": translated_batch\n",
    "    })\n",
    "\n",
    "    #Makes a new file if needed, or adds onto the current file during each batch in case the program crashes at some point\n",
    "    if i == 0:\n",
    "        df_batch.to_excel(output_file, index=False)  \n",
    "    else:\n",
    "        with pd.ExcelWriter(output_file, mode=\"a\", engine=\"openpyxl\", if_sheet_exists=\"overlay\") as writer:\n",
    "            df_batch.to_excel(writer, index=False, header=False, startrow=i + 1)\n",
    "    \n",
    "    print(f\"Saved batch {i // batch_size + 1} to {output_file}\")\n",
    "    #Avoids overwhelming the system/API\n",
    "    time.sleep(10) "
   ]
  },
  {
   "cell_type": "code",
   "execution_count": null,
   "id": "4814e3a0-0ddd-467e-8074-18a33f13a0c0",
   "metadata": {},
   "outputs": [],
   "source": []
  },
  {
   "cell_type": "code",
   "execution_count": null,
   "id": "e1f42872-6939-4c34-b74f-f177f8eb3d49",
   "metadata": {},
   "outputs": [],
   "source": []
  }
 ],
 "metadata": {
  "kernelspec": {
   "display_name": "myenv",
   "language": "python",
   "name": "python3"
  },
  "language_info": {
   "codemirror_mode": {
    "name": "ipython",
    "version": 3
   },
   "file_extension": ".py",
   "mimetype": "text/x-python",
   "name": "python",
   "nbconvert_exporter": "python",
   "pygments_lexer": "ipython3",
   "version": "3.11.11"
  }
 },
 "nbformat": 4,
 "nbformat_minor": 5
}
